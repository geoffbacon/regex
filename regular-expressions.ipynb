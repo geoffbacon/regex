{
 "cells": [
  {
   "cell_type": "markdown",
   "metadata": {},
   "source": [
    "# Regular expressions\n",
    "\n",
    "## This workshop\n",
    "- Brief introduction to regular expressions\n",
    "- Continually introduce new features of regular expressions\n",
    "- Series of short challenges for each feature to practice your skills\n",
    "\n",
    "## Brief introduction\n",
    "\n",
    "Regular expressions are of both theoretical and practical interest in computer science. For the theoretical side, see the [Wikipedia page on regular expressions](https://en.wikipedia.org/wiki/Regular_expression) and [on regular langauges](https://en.wikipedia.org/wiki/Regular_language). For our purposes, a regular expression is a sequence of characters that defines a search pattern. We can use regular expressions to find particular patterns in text data. The text data could be an English sentence, or e-mail addresses, or TeX commands, Python source code, or anything you like. Once we've found a particular pattern, we can optionally replace it with some other text. **In this way, regular expressions are really just advanced \"find and replace\" techniques.**\n",
    "\n",
    "Here are some tasks you can achieve easily and quickly with regular expressions:\n",
    "- Extract all words within parentheses in a text file\n",
    "- Find all product on a webpage that costs over \\$250\n",
    "- Replace all swear words with family-friendly alternatives\n",
    "- Find every mention of a date in some text\n",
    "- Locate all the phone numbers in a series of emails\n",
    "\n",
    "**What are some situations in your work where regular expressions would be useful?**\n",
    "\n",
    "Here are some example regular expressions:\n",
    "\n",
    "- `(\\w+ )(\\1)`\n",
    "- `n|a|b`\n",
    "- `one`\n",
    "- `\\d+`\n",
    "\n",
    "We can think of regular expressions as a tiny, highly specialized programming language. This \"tiny, highly specialized programming language\" is available in Python, R, C, Excel, etc. To use regular expressions, we have to learn their syntax, just like you did when you learnt Python or R syntax. The awesome thing about regular expressions is that their syntax is almost entirely identical across different programming languages. All the patterns we wrote above match the same patterns regardless of where you're using them. In this workshop, we'll be using Python. **But bear in mind, the regular expression syntax we learn today isn't unique to Python.**\n",
    "\n",
    "There are some excellent resources on the web for learning and using regular expressions in Python. We'll refer to all of these throughout the workshop.\n",
    "- [The documentation for Python 3's regular expressions](https://docs.python.org/3/howto/regex.html)\n",
    "- [Python regular expression cheat sheet (2.7, but mostly unchanged)](https://github.com/dlab-berkeley/regular-expressions-in-python/blob/master/regex_cheatsheet.pdf)\n",
    "- [Pythex](https://pythex.org/)\n",
    "- [PyRegex](http://www.pyregex.com/)\n",
    "- [HOWTO Python regular expressions](https://docs.python.org/3/howto/regex.html)\n",
    "\n",
    "One last note on terminology. Regular expressions are also called regexes, regex patterns or REs.\n",
    "\n",
    "### Why use regular expressions?\n",
    "\n",
    "What does text processing look like **without** regular expressions? Let's try to find phone numbers."
   ]
  },
  {
   "cell_type": "code",
   "execution_count": 8,
   "metadata": {},
   "outputs": [],
   "source": [
    "def is_phone_number(text):\n",
    "    '''Return True if `text` is a valid US phone number.\n",
    "    \n",
    "    A phone number in the US is a string of digits with a 3-digit Area Code, \n",
    "    followed by hyphen, a group of three digits, another hyphen and a group \n",
    "    of four digits.'''\n",
    "    # Test the length of the string\n",
    "    if len(text)!= 12:\n",
    "        return False\n",
    "    # Test that the first three characters are digits\n",
    "    for i in range(3): \n",
    "        if not text[i].isnumeric():\n",
    "            return False\n",
    "    # Test that the fourth character is a '-'\n",
    "    if text[3] != '-':\n",
    "        return False\n",
    "    # Test that the next three characters are digits\n",
    "    for i in range(4,7):\n",
    "        if not text[i].isnumeric():\n",
    "            return False\n",
    "    # Test that the next character is a '-'\n",
    "    if text[7] != '-':\n",
    "        return False\n",
    "    # Test that the last four characters are digits\n",
    "    for i in range(8,12): \n",
    "        if not text[i].isnumeric():\n",
    "            return False\n",
    "    # If we didn't fail any of the above tests, it's a valid US phone number\n",
    "    return True"
   ]
  },
  {
   "cell_type": "markdown",
   "metadata": {},
   "source": [
    "Let's use our new function on a test string."
   ]
  },
  {
   "cell_type": "code",
   "execution_count": 11,
   "metadata": {},
   "outputs": [
    {
     "data": {
      "text/plain": [
       "True"
      ]
     },
     "execution_count": 11,
     "metadata": {},
     "output_type": "execute_result"
    }
   ],
   "source": [
    "test_string = '510-654-1220'\n",
    "is_phone_number(test_string)"
   ]
  },
  {
   "cell_type": "code",
   "execution_count": 12,
   "metadata": {},
   "outputs": [
    {
     "data": {
      "text/plain": [
       "False"
      ]
     },
     "execution_count": 12,
     "metadata": {},
     "output_type": "execute_result"
    }
   ],
   "source": [
    "test_string = 'this is not a phone number'\n",
    "is_phone_number(test_string)"
   ]
  },
  {
   "cell_type": "markdown",
   "metadata": {},
   "source": [
    "Now we want to find **all** the phone numbers in a message. We can do that by looping through every substring of length 12 in our message, and using our `is_phone_number` function above."
   ]
  },
  {
   "cell_type": "code",
   "execution_count": 14,
   "metadata": {},
   "outputs": [
    {
     "name": "stdout",
     "output_type": "stream",
     "text": [
      "Phone number found: 409-223-8952\n",
      "Phone number found: 409-888-8498\n"
     ]
    }
   ],
   "source": [
    "message = 'Call me at 409-223-8952 tomorrow. 409-888-8498 is my office'\n",
    "for i in range (len(message)):\n",
    "    chunk = message[i:i+12]\n",
    "    if isPhoneNumber(chunk):\n",
    "        print('Phone number found: '+ chunk)"
   ]
  },
  {
   "cell_type": "markdown",
   "metadata": {},
   "source": [
    "This definitely works. But there's so much overhead! Regular expressions allow us to be much more concise. Here's how we could do the same thing with regular expressions. In Python, we need to `import` the `re` module in order to use regular expressions. The regular expression for this example is assigned to the variable `phone_number_pattern`. The pattern is: \"three digits followed by a '-', followed by three digits, followed by '-', followed by four digits\". This is **a lot** easier to understand than our `is_phone_number` function."
   ]
  },
  {
   "cell_type": "code",
   "execution_count": 17,
   "metadata": {},
   "outputs": [
    {
     "name": "stdout",
     "output_type": "stream",
     "text": [
      "Phone number found: 409-223-8952\n",
      "Phone number found: 409-888-8498\n"
     ]
    }
   ],
   "source": [
    "import re\n",
    "phone_number_pattern = '\\d{3}-\\d{3}-\\d{4}'\n",
    "for number in re.findall(phone_number_pattern, message):\n",
    "    print('Phone number found: '+ number)"
   ]
  },
  {
   "cell_type": "markdown",
   "metadata": {},
   "source": [
    "#### Challenge 1 \n",
    "What are some problems with our regular expression defined above? Will it find all valid US phone numbers? _Hint: Do people always write their phone number in exactly the format used above?_"
   ]
  },
  {
   "cell_type": "markdown",
   "metadata": {},
   "source": [
    "### Matching characters exactly\n",
    "\n",
    "Most letters and characters will simply match themselves. For example, the regular expression `regular` will match the string `regular` exactly."
   ]
  },
  {
   "cell_type": "code",
   "execution_count": 20,
   "metadata": {},
   "outputs": [
    {
     "data": {
      "text/plain": [
       "['regular']"
      ]
     },
     "execution_count": 20,
     "metadata": {},
     "output_type": "execute_result"
    }
   ],
   "source": [
    "pattern = 'regular'\n",
    "test_string = 'we are practising our regular expressions'\n",
    "re.findall(pattern, test_string)"
   ]
  },
  {
   "cell_type": "markdown",
   "metadata": {},
   "source": [
    "There are exceptions to this rule; some characters are special metacharacters, and don’t match themselves. Instead, they signal that some out-of-the-ordinary thing should be matched, or they affect other portions of the RE by repeating them or changing their meaning. Really, learning regular expression syntax is just learning how to use these metacharacters. In this workshop, we'll discuss the following metacharacters:\n",
    "\n",
    "`. ^ $ * + ? { } [ ] \\ | ( )`\n",
    "\n",
    "The first metacharacters we’ll look at are `[` and `]`. They’re used for specifying a **character class**, which is a set of characters that you wish to match."
   ]
  },
  {
   "cell_type": "code",
   "execution_count": 23,
   "metadata": {},
   "outputs": [
    {
     "data": {
      "text/plain": [
       "['a', 'b', 'a', 'a', 'a', 'b', 'a']"
      ]
     },
     "execution_count": 23,
     "metadata": {},
     "output_type": "execute_result"
    }
   ],
   "source": [
    "vowel_pattern = '[ab]'\n",
    "test_string = 'abracadabra'\n",
    "re.findall(vowel_pattern, test_string)"
   ]
  },
  {
   "cell_type": "markdown",
   "metadata": {},
   "source": [
    "#### Challenge 2\n",
    "Find all the p's and q's in the test string below."
   ]
  },
  {
   "cell_type": "code",
   "execution_count": 22,
   "metadata": {},
   "outputs": [],
   "source": [
    "test_string = \"Quick, there's a large goat filled with pizzaz. Is there a path to the queen of Zanzabar?\""
   ]
  },
  {
   "cell_type": "markdown",
   "metadata": {},
   "source": [
    "#### Challenge 3\n",
    "Find all the vowels in the test sentence below."
   ]
  },
  {
   "cell_type": "code",
   "execution_count": null,
   "metadata": {},
   "outputs": [],
   "source": [
    "test_string = 'the quick brown fox jumped over the lazy dog'"
   ]
  },
  {
   "cell_type": "markdown",
   "metadata": {},
   "source": [
    "Characters can be listed individually, or a range of characters can be indicated by giving two characters and separating them by a '-'. For example, `[abc]` will match any of the characters a, b, or c; this is the same as `[a-c]`.\n",
    "\n",
    "#### Challenge 4\n",
    "Find all the capital letters in the following string."
   ]
  },
  {
   "cell_type": "code",
   "execution_count": 77,
   "metadata": {},
   "outputs": [],
   "source": [
    "test_string = 'The 44th pPresident of the United States of America was Barack Obama'"
   ]
  },
  {
   "cell_type": "markdown",
   "metadata": {},
   "source": [
    "You can match the characters not listed within the class by complementing the set. This is indicated by including a `^` as the first character of the class; `^` outside a character class will simply match the `^` character. For example, `[^5]` will match any character except `5`."
   ]
  },
  {
   "cell_type": "code",
   "execution_count": 26,
   "metadata": {},
   "outputs": [
    {
     "data": {
      "text/plain": [
       "['h', 'e', ' ', 'q', 'u']"
      ]
     },
     "execution_count": 26,
     "metadata": {},
     "output_type": "execute_result"
    }
   ],
   "source": [
    "everything_but_t = '[^t]'\n",
    "test_string = 'the quick brown fox jumped over the lazy dog'\n",
    "re.findall(everything_but_t, test_string)[:5]"
   ]
  },
  {
   "cell_type": "markdown",
   "metadata": {},
   "source": [
    "#### Challenge 5\n",
    "Find all the consonants in the test sentence below."
   ]
  },
  {
   "cell_type": "code",
   "execution_count": 27,
   "metadata": {},
   "outputs": [],
   "source": [
    "test_string = 'the quick brown fox jumped over the lazy dog'"
   ]
  },
  {
   "cell_type": "markdown",
   "metadata": {},
   "source": [
    "#### Challenge 6\n",
    "Find all the `^` characters in the following test sentence."
   ]
  },
  {
   "cell_type": "code",
   "execution_count": 34,
   "metadata": {},
   "outputs": [],
   "source": [
    "test_string = \"\"\"You can match the characters not listed within the class by complementing the set. \n",
    "This is indicated by including a ^ as the first character of the class; \n",
    "^ outside a character class will simply match the ^ character. \n",
    "For example, [^5] will match any character except 5.\"\"\""
   ]
  },
  {
   "cell_type": "markdown",
   "metadata": {},
   "source": [
    "Challenge 6 is a bit of a trick. The problem is that we want to match the `^` character, but it's interpreted as a metacharacter, a character which has a special meaning. If we want to literally match the `^`, we have to \"escape\" its special meaning. For this, we use the `\\`.\n",
    "\n",
    "#### Challenge 7\n",
    "Find all the square brackets `[` and `]` in the following test string"
   ]
  },
  {
   "cell_type": "code",
   "execution_count": 38,
   "metadata": {},
   "outputs": [],
   "source": [
    "test_string = \"The first metacharacters we'll look at are [ and ].\""
   ]
  },
  {
   "cell_type": "code",
   "execution_count": 39,
   "metadata": {},
   "outputs": [],
   "source": [
    "pattern = r'[^t]'"
   ]
  },
  {
   "cell_type": "markdown",
   "metadata": {},
   "source": [
    "The backslash `\\` has another use in regexes, in addition to escaping metacharacters. It's used as the first character in special two-character combinations that have special meanings. These special two-character combinations are really shorthand for sets of characters.\n",
    "\n",
    "|      Character     |       Meaning      |   Shorthand for  |\n",
    "|:------------------:|:------------------:|:----------:|\n",
    "|        `\\d`        |      any digit     | `[0-9]` |\n",
    "|        `\\D`        |    any non-digit   |    `[^0-9]`    |\n",
    "|        `\\s`        |   any whitespace   |    `[ \\t\\n\\r\\f\\v]`    |\n",
    "|        `\\S`        | any non-whitespace |    `[^ \\t\\n\\r\\f\\v]`    |\n",
    "|        `\\w`        |      any word      |    `[a-zA-Z0-9_]`    |\n",
    "| what do you think? |    any non-word    |         `?`   |\n",
    "\n",
    "Now here's a quick tip. When writing regular expressions in Python, use raw strings instead of normal strings. Raw strings are preceded by an `r` in Python code. If we don't, the Python interpreter will try to convert backslashed characters before passing them to the regular expression engine. This will end in tears. You can read more about this [here](https://docs.python.org/3/library/re.html#module-re).\n",
    "\n",
    "#### Challenge 8\n",
    "Find all three digit prices in the following test sentence. Remember the `$` is a metacharacter so needs to be escaped."
   ]
  },
  {
   "cell_type": "code",
   "execution_count": 40,
   "metadata": {},
   "outputs": [],
   "source": [
    "test_string = 'The iPhone X costs over $999, while the Android competitor comes in at around $550.'"
   ]
  },
  {
   "cell_type": "markdown",
   "metadata": {},
   "source": [
    "Being able to match varying sets of characters is the first thing regular expressions can do that isn’t already possible with the methods available on strings. However, if that was the only additional capability of regexes, they wouldn’t be much of an advance. Another capability is that you can specify that portions of the RE must be repeated a certain number of times.\n",
    "\n",
    "| Character |        Meaning        |    Example    |                Matches               |\n",
    "|:---------:|:---------------------:|:-------------:|:------------------------------------:|\n",
    "|   `{n}`   |    exactly n times    |     `a{3}`    |                 'aaa'                |\n",
    "|  `{n, m}` | between n and m times | `[1-9]{2, 4}` |          '12', '123', '1234'         |\n",
    "|    `?`    |      0 or 1 times     |   `colou?r`   |           'color', 'colour'          |\n",
    "|    `*`    |    0 or more times    |    `data!*`   | 'data', 'data!', 'data!!', 'data!!!' |\n",
    "|    `+`    |    1 or more times    |     `lo+l`    |        'lol', 'lool', 'loool'        |\n",
    "\n",
    "#### Challenge 9\n",
    "Find all prices in the following test sentence."
   ]
  },
  {
   "cell_type": "code",
   "execution_count": 41,
   "metadata": {},
   "outputs": [],
   "source": [
    "test_string = \"\"\"The iPhone X costs over $999, while the Android competitor comes in at around $550.\n",
    "Apple's MacBook Pro costs $1200, while just a few years ago it was $1700.\n",
    "A new charger for the MacBook costs over $80.\n",
    "\"\"\""
   ]
  },
  {
   "cell_type": "markdown",
   "metadata": {},
   "source": [
    "The regular expression syntax that we've seen so far covers most of the common use cases. Let's take a break from the syntax, and focus on Python's re module. It has some quirks that we should talk about, after which we'll get back to the syntax.\n",
    "\n",
    "Up until now we've only used `re.findall`. This function takes two arguments, a `pattern` and a `text` to search through. It returns a list of all the substrings in `text` that follow `pattern`. \n",
    "\n",
    "Two other common functions are `re.match` and `re.search`. These take the same two arguments as `re.findall`. `re.search` looks through `text` for the **first** occurrence of `pattern`. `re.match` only looks at the start of `text`. Rather than returning a list, these two functions return a `match` object, which contains information about the substring in `text` that matches `pattern`. For example, it gives you the starting and ending index of the substring. If no such matching substring is found, they return `None`."
   ]
  },
  {
   "cell_type": "code",
   "execution_count": 43,
   "metadata": {},
   "outputs": [
    {
     "data": {
      "text/plain": [
       "<_sre.SRE_Match object; span=(24, 28), match='$999'>"
      ]
     },
     "execution_count": 43,
     "metadata": {},
     "output_type": "execute_result"
    }
   ],
   "source": [
    "price_pattern = r'\\$\\d+'\n",
    "test_string = \"\"\"The iPhone X costs over $999, while the Android competitor comes in at around $550.\n",
    "Apple's MacBook Pro costs $1200, while just a few years ago it was $1700.\n",
    "A new charger for the MacBook costs over $80.\n",
    "\"\"\"\n",
    "m = re.search(price_pattern, test_string)\n",
    "m"
   ]
  },
  {
   "cell_type": "markdown",
   "metadata": {},
   "source": [
    "The `match` object has everal methods and attributes; the most important ones are `group()`, `start()`, `end()` and `span()`. `group()` returns the string that matched the regex, `start()` and `end()` return the relevant indicies, and `span()` returns the indicies as a tuple."
   ]
  },
  {
   "cell_type": "code",
   "execution_count": 50,
   "metadata": {},
   "outputs": [
    {
     "name": "stdout",
     "output_type": "stream",
     "text": [
      "$999\n",
      "24\n",
      "28\n",
      "(24, 28)\n"
     ]
    }
   ],
   "source": [
    "print(m.group())\n",
    "print(m.start())\n",
    "print(m.end())\n",
    "print(m.span())"
   ]
  },
  {
   "cell_type": "markdown",
   "metadata": {},
   "source": [
    "In general, I prefer just using `re.findall`, because I rarely need the information that `match` object instances give.\n",
    "\n",
    "#### Challenge 10\n",
    "Write a function called `first_vowel` that takes in a single word, and returns the first vowel. If there is no vowel in the word, it should return the string `\"Hey, no vowel!\"`."
   ]
  },
  {
   "cell_type": "code",
   "execution_count": 51,
   "metadata": {},
   "outputs": [],
   "source": [
    "def first_vowel(word):\n",
    "    vowel_pattern = r'[aeiou]'\n",
    "    m = re.search(vowel_pattern, word)\n",
    "    if m:\n",
    "        return m.group()\n",
    "    return 'Hey, no vowel!'"
   ]
  },
  {
   "cell_type": "code",
   "execution_count": 54,
   "metadata": {},
   "outputs": [
    {
     "name": "stdout",
     "output_type": "stream",
     "text": [
      "e\n",
      "Hey, no vowel!\n"
     ]
    }
   ],
   "source": [
    "print(first_vowel('hello'))\n",
    "print(first_vowel('sky'))"
   ]
  },
  {
   "cell_type": "markdown",
   "metadata": {},
   "source": [
    "So far we've just been finding, but I promised you advanced \"find and replace\"! That's what `re.sub` is for. `re.sub` takes three arguments: a `pattern` to look for, a `replacement` string to replace it with, and a `text` to look for `pattern` in.\n",
    "\n",
    "#### Challenge 11\n",
    "Replace all the prices in the test string below with `\"one million dollars\"`."
   ]
  },
  {
   "cell_type": "code",
   "execution_count": 56,
   "metadata": {},
   "outputs": [],
   "source": [
    "test_string = \"\"\"The iPhone X costs over $999, while the Android competitor comes in at around $550.\n",
    "Apple's MacBook Pro costs $1200, while just a few years ago it was $1700.\n",
    "A new charger for the MacBook costs over $80.\n",
    "\"\"\""
   ]
  },
  {
   "cell_type": "markdown",
   "metadata": {},
   "source": [
    "So far we've used the module-level functions `re.findall` and friends. We can also `compile` a regex into a `pattern` object. The `pattern` object has methods with identical names to the module-level functions. The benefits are if you're searching over huge texts. It's entirely the same as what we've been doing so far so no need to complicate things. But you'll see it around so it's good to know about."
   ]
  },
  {
   "cell_type": "code",
   "execution_count": 59,
   "metadata": {},
   "outputs": [
    {
     "data": {
      "text/plain": [
       "['a', 'a', 'a', 'a', 'a']"
      ]
     },
     "execution_count": 59,
     "metadata": {},
     "output_type": "execute_result"
    }
   ],
   "source": [
    "vowel_pattern = re.compile(r'[aeiou]')\n",
    "test_string = 'abracadabra'\n",
    "vowel_pattern.findall(test_string)"
   ]
  },
  {
   "cell_type": "markdown",
   "metadata": {},
   "source": [
    "You might also want to experiment with `re.split`."
   ]
  },
  {
   "cell_type": "markdown",
   "metadata": {},
   "source": [
    "#### Challenge 12\n",
    "You've received a problematic dataset from a fellow researcher, with some data entry errors/discrepancies. How would you use regular expressions to correct these errors?\n",
    "\n",
    "1. Replace all instances of \"district\" or \"District\" with \"County\". \n",
    "2. Replace all instances of \"Not available\" or \"[Name] looking up\" with numeric codes.  "
   ]
  },
  {
   "cell_type": "code",
   "execution_count": null,
   "metadata": {},
   "outputs": [],
   "source": [
    "with open(\"data/usecase1/problem_dataset.csv\", \"r\") as f:\n",
    "    text = f.read()\n",
    "\n",
    "# DO SOME REGEX MAGIC\n",
    "# cleaned_text = ...\n",
    "\n",
    "with open(\"data/usecase1/cleaned_dataset.csv\", \"w\") as f:\n",
    "    f.write(cleaned_text)\n"
   ]
  },
  {
   "cell_type": "markdown",
   "metadata": {},
   "source": [
    "#### Challenge 13\n",
    "Find all words in the following string about robots."
   ]
  },
  {
   "cell_type": "code",
   "execution_count": 60,
   "metadata": {},
   "outputs": [],
   "source": [
    "string = '''Robots are branching out. A new prototype soft robot takes inspiration from plants by growing to explore its environment.\n",
    "\n",
    "Vines and some fungi extend from their tips to explore their surroundings. \n",
    "Elliot Hawkes of the University of California in Santa Barbara \n",
    "and his colleagues designed a bot that works \n",
    "on similar principles. Its mechanical body \n",
    "sits inside a plastic tube reel that extends \n",
    "through pressurized inflation, a method that some \n",
    "invertebrates like peanut worms (Sipunculus nudus)\n",
    "also use to extend their appendages. The plastic \n",
    "tubing has two compartments, and inflating one \n",
    "side or the other changes the extension direction. \n",
    "A camera sensor at the tip alerts the bot when it’s \n",
    "about to run into something.\n",
    "\n",
    "In the lab, Hawkes and his colleagues \n",
    "programmed the robot to form 3-D structures such \n",
    "as a radio antenna, turn off a valve, navigate a maze, \n",
    "swim through glue, act as a fire extinguisher, squeeze \n",
    "through tight gaps, shimmy through fly paper and slither \n",
    "across a bed of nails. The soft bot can extend up to \n",
    "72 meters, and unlike plants, it can grow at a speed of \n",
    "10 meters per second, the team reports July 19 in Science Robotics. \n",
    "The design could serve as a model for building robots \n",
    "that can traverse constrained environments\n",
    "\n",
    "This isn’t the first robot to take \n",
    "inspiration from plants. One plantlike \n",
    "predecessor was a robot modeled on roots.'''"
   ]
  },
  {
   "cell_type": "markdown",
   "metadata": {},
   "source": [
    "#### Challenge 14\n",
    "We can use parentheses to match certain parts of a regular expression."
   ]
  },
  {
   "cell_type": "code",
   "execution_count": 72,
   "metadata": {},
   "outputs": [
    {
     "name": "stdout",
     "output_type": "stream",
     "text": [
      "999\n",
      "99\n"
     ]
    }
   ],
   "source": [
    "price_pattern = pattern = r'\\$(\\d+)\\.(\\d{2})'\n",
    "test_string = \"The iPhone X costs over $999.99, while the Android competitor comes in at around $550.50.\"\n",
    "m = re.search(price_pattern, test_string)\n",
    "dollars, cents = m.group(1), m.group(2)\n",
    "print(dollars)\n",
    "print(cents)"
   ]
  },
  {
   "cell_type": "markdown",
   "metadata": {},
   "source": [
    "Use parentheses to group together the area code of a US phone number. Write a function called `area_code` that takes in a string, and if it is a valid US phone number, returns the area code. If not, it should return the string `\"Hey, not a phone number!\"`."
   ]
  },
  {
   "cell_type": "code",
   "execution_count": null,
   "metadata": {},
   "outputs": [],
   "source": []
  },
  {
   "cell_type": "markdown",
   "metadata": {},
   "source": [
    "#### Challenge 15\n",
    "Parentheses can also be used to group together characters in a regular expression so that metacharacters can apply to the entire group, not just a single character."
   ]
  },
  {
   "cell_type": "code",
   "execution_count": 75,
   "metadata": {},
   "outputs": [
    {
     "data": {
      "text/plain": [
       "['wo', '']"
      ]
     },
     "execution_count": 75,
     "metadata": {},
     "output_type": "execute_result"
    }
   ],
   "source": [
    "bat_pattern = r'Bat(wo)?man'\n",
    "test_string = 'Batwoman, Batman and Robin are good friends.'\n",
    "re.findall(bat_pattern, test_string)"
   ]
  },
  {
   "cell_type": "markdown",
   "metadata": {},
   "source": [
    "What went wrong? Well, parentheses have a double life in regular expression syntax. They are used to signal groups like in Challenge 14, but also to let metacharacters apply to those groups. Those two uses interfere with each other. If we want the `?` to apply to the whole `wo` sequence, but we want the whole substring that matches, we have to use a non-capturing group."
   ]
  },
  {
   "cell_type": "code",
   "execution_count": 76,
   "metadata": {},
   "outputs": [
    {
     "data": {
      "text/plain": [
       "['Batwoman', 'Batman']"
      ]
     },
     "execution_count": 76,
     "metadata": {},
     "output_type": "execute_result"
    }
   ],
   "source": [
    "bat_pattern = r'Bat(?:wo)?man'\n",
    "test_string = 'Batwoman, Batman and Robin are good friends.'\n",
    "re.findall(bat_pattern, test_string)"
   ]
  },
  {
   "cell_type": "code",
   "execution_count": null,
   "metadata": {},
   "outputs": [],
   "source": []
  }
 ],
 "metadata": {
  "kernelspec": {
   "display_name": "Python 3",
   "language": "python",
   "name": "python3"
  },
  "language_info": {
   "codemirror_mode": {
    "name": "ipython",
    "version": 3
   },
   "file_extension": ".py",
   "mimetype": "text/x-python",
   "name": "python",
   "nbconvert_exporter": "python",
   "pygments_lexer": "ipython3",
   "version": "3.6.1"
  }
 },
 "nbformat": 4,
 "nbformat_minor": 2
}
